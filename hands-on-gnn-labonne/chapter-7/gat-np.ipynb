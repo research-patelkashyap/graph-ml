{
 "cells": [
  {
   "cell_type": "code",
   "execution_count": 1,
   "metadata": {},
   "outputs": [],
   "source": [
    "import numpy as np"
   ]
  },
  {
   "cell_type": "code",
   "execution_count": 2,
   "metadata": {},
   "outputs": [
    {
     "data": {
      "text/plain": [
       "array([[1, 1, 1, 1],\n",
       "       [1, 1, 0, 0],\n",
       "       [1, 0, 1, 1],\n",
       "       [1, 0, 1, 1]])"
      ]
     },
     "execution_count": 2,
     "metadata": {},
     "output_type": "execute_result"
    }
   ],
   "source": [
    "A = np.array([\n",
    "    [1, 1, 1, 1],\n",
    "    [1, 1, 0, 0],\n",
    "    [1, 0, 1, 1],\n",
    "    [1, 0, 1, 1]\n",
    "])\n",
    "A"
   ]
  },
  {
   "cell_type": "code",
   "execution_count": 3,
   "metadata": {},
   "outputs": [
    {
     "data": {
      "text/plain": [
       "array([[-0.93404023,  0.88168921,  0.58528596,  0.55452137],\n",
       "       [-0.06177679, -0.60722957, -0.28568677,  0.60748628],\n",
       "       [-0.04278492, -0.43494923,  0.28309164,  0.7140047 ],\n",
       "       [ 0.29574681,  0.73385484, -0.13823721, -0.29907732]])"
      ]
     },
     "execution_count": 3,
     "metadata": {},
     "output_type": "execute_result"
    }
   ],
   "source": [
    "X = np.random.uniform(-1, 1, (4, 4))\n",
    "X"
   ]
  },
  {
   "cell_type": "code",
   "execution_count": 4,
   "metadata": {},
   "outputs": [
    {
     "data": {
      "text/plain": [
       "array([[-0.74854751, -0.74141834,  0.73067398,  0.70217093],\n",
       "       [-0.96673385,  0.97933429, -0.73798716, -0.7012416 ]])"
      ]
     },
     "execution_count": 4,
     "metadata": {},
     "output_type": "execute_result"
    }
   ],
   "source": [
    "W = np.random.uniform(-1, 1, (2, 4))\n",
    "W"
   ]
  },
  {
   "cell_type": "code",
   "execution_count": 5,
   "metadata": {},
   "outputs": [
    {
     "data": {
      "text/plain": [
       "array([[ 0.48347146, -0.01182378,  0.1633881 , -0.62704387]])"
      ]
     },
     "execution_count": 5,
     "metadata": {},
     "output_type": "execute_result"
    }
   ],
   "source": [
    "W_att = np.random.uniform(-1, 1, (1, 4))\n",
    "W_att"
   ]
  },
  {
   "cell_type": "code",
   "execution_count": 6,
   "metadata": {},
   "outputs": [
    {
     "data": {
      "text/plain": [
       "(array([0, 0, 0, 0, 1, 1, 2, 2, 2, 3, 3, 3]),\n",
       " array([0, 1, 2, 3, 0, 1, 0, 2, 3, 0, 2, 3]))"
      ]
     },
     "execution_count": 6,
     "metadata": {},
     "output_type": "execute_result"
    }
   ],
   "source": [
    "connections = np.where(A > 0)\n",
    "connections"
   ]
  },
  {
   "cell_type": "code",
   "execution_count": 7,
   "metadata": {},
   "outputs": [
    {
     "data": {
      "text/plain": [
       "array([[ 0.86249495,  0.94564981,  0.86249495,  0.94564981],\n",
       "       [ 0.86249495,  0.94564981,  0.71426932, -0.7501205 ],\n",
       "       [ 0.86249495,  0.94564981,  1.06270691, -1.09420685],\n",
       "       [ 0.86249495,  0.94564981, -1.07648371,  0.7445235 ],\n",
       "       [ 0.71426932, -0.7501205 ,  0.86249495,  0.94564981],\n",
       "       [ 0.71426932, -0.7501205 ,  0.71426932, -0.7501205 ],\n",
       "       [ 1.06270691, -1.09420685,  0.86249495,  0.94564981],\n",
       "       [ 1.06270691, -1.09420685,  1.06270691, -1.09420685],\n",
       "       [ 1.06270691, -1.09420685, -1.07648371,  0.7445235 ],\n",
       "       [-1.07648371,  0.7445235 ,  0.86249495,  0.94564981],\n",
       "       [-1.07648371,  0.7445235 ,  1.06270691, -1.09420685],\n",
       "       [-1.07648371,  0.7445235 , -1.07648371,  0.7445235 ]])"
      ]
     },
     "execution_count": 7,
     "metadata": {},
     "output_type": "execute_result"
    }
   ],
   "source": [
    "np.concatenate([(X @ W.T)[connections[0]], (X @ W.T)[connections[1]]], axis=1)"
   ]
  },
  {
   "cell_type": "code",
   "execution_count": 8,
   "metadata": {},
   "outputs": [
    {
     "data": {
      "text/plain": [
       "array([[-0.04623197,  0.99287211,  1.2655599 , -0.23692298, -0.09784441,\n",
       "         0.94125966,  0.07468362,  1.38647549, -0.11600739, -0.98129474,\n",
       "         0.33049713, -1.17198576]])"
      ]
     },
     "execution_count": 8,
     "metadata": {},
     "output_type": "execute_result"
    }
   ],
   "source": [
    "a = W_att @ np.concatenate([(X @ W.T)[connections[0]], (X @ W.T)[connections[1]]], axis=1).T\n",
    "a"
   ]
  },
  {
   "cell_type": "code",
   "execution_count": 9,
   "metadata": {},
   "outputs": [
    {
     "data": {
      "text/plain": [
       "array([[-0.00924639,  0.99287211,  1.2655599 , -0.0473846 , -0.01956888,\n",
       "         0.94125966,  0.07468362,  1.38647549, -0.02320148, -0.19625895,\n",
       "         0.33049713, -0.23439715]])"
      ]
     },
     "execution_count": 9,
     "metadata": {},
     "output_type": "execute_result"
    }
   ],
   "source": [
    "def leaky_relu(x, alpha=0.2):\n",
    "    return np.maximum(alpha*x, x)\n",
    "\n",
    "e = leaky_relu(a)\n",
    "e"
   ]
  },
  {
   "cell_type": "code",
   "execution_count": 10,
   "metadata": {},
   "outputs": [
    {
     "data": {
      "text/plain": [
       "array([[-0.00924639,  0.99287211,  1.2655599 , -0.0473846 ],\n",
       "       [-0.01956888,  0.94125966,  0.        ,  0.        ],\n",
       "       [ 0.07468362,  0.        ,  1.38647549, -0.02320148],\n",
       "       [-0.19625895,  0.        ,  0.33049713, -0.23439715]])"
      ]
     },
     "execution_count": 10,
     "metadata": {},
     "output_type": "execute_result"
    }
   ],
   "source": [
    "E = np.zeros(A.shape)\n",
    "E[connections[0], connections[1]] = e[0]\n",
    "E"
   ]
  },
  {
   "cell_type": "code",
   "execution_count": 11,
   "metadata": {},
   "outputs": [
    {
     "data": {
      "text/plain": [
       "array([[0.12099748, 0.32960278, 0.43292999, 0.11646974],\n",
       "       [0.17688519, 0.46235335, 0.18038073, 0.18038073],\n",
       "       [0.15272747, 0.14173675, 0.56704969, 0.1384861 ],\n",
       "       [0.20521863, 0.24971864, 0.34752339, 0.19753933]])"
      ]
     },
     "execution_count": 11,
     "metadata": {},
     "output_type": "execute_result"
    }
   ],
   "source": [
    "def softmax2D(x, axis):\n",
    "    e = np.exp(x - np.expand_dims(np.max(x, axis=axis), axis))\n",
    "    sum = np.expand_dims(np.sum(e, axis=axis), axis)\n",
    "    return e / sum\n",
    "\n",
    "W_alpha = softmax2D(E, 1)\n",
    "W_alpha"
   ]
  },
  {
   "cell_type": "code",
   "execution_count": 12,
   "metadata": {},
   "outputs": [
    {
     "data": {
      "text/plain": [
       "array([[ 2.35333563, -1.46814684],\n",
       "       [ 1.15480712, -0.76244648],\n",
       "       [ 1.8730133 , -1.22552142],\n",
       "       [ 1.8730133 , -1.22552142]])"
      ]
     },
     "execution_count": 12,
     "metadata": {},
     "output_type": "execute_result"
    }
   ],
   "source": [
    "H = A.T @ W_alpha @ X @ W.T\n",
    "H"
   ]
  }
 ],
 "metadata": {
  "kernelspec": {
   "display_name": "gnnbctfd",
   "language": "python",
   "name": "python3"
  },
  "language_info": {
   "codemirror_mode": {
    "name": "ipython",
    "version": 3
   },
   "file_extension": ".py",
   "mimetype": "text/x-python",
   "name": "python",
   "nbconvert_exporter": "python",
   "pygments_lexer": "ipython3",
   "version": "3.12.4"
  }
 },
 "nbformat": 4,
 "nbformat_minor": 2
}
